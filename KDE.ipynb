{
 "cells": [
  {
   "cell_type": "markdown",
   "metadata": {},
   "source": [
    "# KDE\n",
    "\n",
    "Kernel Density Estimation (KDE) is a non-parametric way of estimating the probability density function (pdf) of ANY distribution given a finite number of its samples. The pdf of a random variable X given finite samples (xi\n",
    "\n",
    "s), as per KDE formula, is given by:\n",
    "\n",
    "$$pdf(x)=\\frac{1}{nh}\\sum_{i=1}^{n} K ( \\frac{||x−xi||}{h} )$$\n",
    "\n",
    "In the above equation, $K()$ is called the kernel - a symmetric function that integrates to $1$. $h$ is called the **kernel bandwidth** which controls how smooth (or spread-out) the kernel is. The most commonly used kernel is the normal distribution function.\n",
    "\n",
    "The free parameters of kernel density estimation are the kernel, which specifies the shape of the distribution placed at each point, and the kernel bandwidth, which con‐ trols the size of the kernel at each point. In practice, there are many kernels you might use for a kernel density estimation: in particular, the Scikit-Learn KDE implementa‐ tion supports one of six kernels, which you can read about in Scikit-Learn’s Density Estimation documentation.\n",
    "\n",
    "[source 1](https://jakevdp.github.io/PythonDataScienceHandbook/05.13-kernel-density-estimation.html)\n",
    "\n",
    "[source 2](http://shogun-toolbox.org/notebook/latest/KernelDensity.html)"
   ]
  },
  {
   "cell_type": "code",
   "execution_count": 16,
   "metadata": {
    "hide_input": false,
    "scrolled": true
   },
   "outputs": [],
   "source": [
    "%matplotlib inline\n",
    "from dataset import Dataset\n",
    "import matplotlib.pyplot as plt\n",
    "import numpy as np\n",
    "import pandas as pd\n",
    "import scipy.stats as stats\n",
    "import seaborn as sns; sns.set()\n",
    "\n",
    "from sklearn.model_selection import GridSearchCV, LeaveOneOut, cross_val_score\n",
    "from sklearn.neighbors import KernelDensity\n",
    "from sklearn.naive_bayes import GaussianNB\n",
    "from sklearn.base import BaseEstimator, ClassifierMixin\n",
    "from sklearn.metrics import roc_curve, roc_auc_score, f1_score, accuracy_score\n",
    "from sklearn.model_selection import GridSearchCV, LeaveOneOut, cross_val_score\n",
    "from sklearn.model_selection import train_test_split\n",
    "from sklearn.naive_bayes import GaussianNB\n",
    "from sklearn.neighbors import KernelDensity, KNeighborsClassifier\n",
    "import warnings\n",
    "\n",
    "warnings.simplefilter(action='ignore')"
   ]
  },
  {
   "cell_type": "code",
   "execution_count": null,
   "metadata": {},
   "outputs": [],
   "source": [
    "# pdf function for plotting\n",
    "n_samples = 100\n",
    "x_min = 0.001\n",
    "x_max = 15\n",
    "\n",
    "# parameters of the distribution\n",
    "mu1 = 4\n",
    "sigma1 = 1\n",
    "mu2 = 8\n",
    "sigma2 = 2\n",
    "\n",
    "# Parameters of the KDE\n",
    "bandwidth = 0.5"
   ]
  },
  {
   "cell_type": "code",
   "execution_count": null,
   "metadata": {},
   "outputs": [],
   "source": [
    "x = np.linspace(x_min, x_max, n_samples)\n",
    "y = 0.5*(stats.norm(mu1, sigma1).pdf(x)+stats.norm(mu2, sigma2).pdf(x))\n",
    "\n",
    "# plot actual pdf\n",
    "plt.plot(x, y, 'b--', label=\"Actual pdf\")\n",
    "plt.legend(numpoints=1)\n",
    "plt.title('Actual PDF')\n",
    "plt.show();"
   ]
  },
  {
   "cell_type": "code",
   "execution_count": null,
   "metadata": {},
   "outputs": [],
   "source": [
    "def generate_samples(n_samples, mu1, sigma1, mu2, sigma2):\n",
    "    samples1 = np.random.normal(mu1, sigma1, (1, int(n_samples/2)))\n",
    "    samples2 = np.random.normal(mu2, sigma2, (1, int(n_samples/2)))\n",
    "    samples = np.concatenate((samples1, samples2), 1)\n",
    "    return samples\n",
    "\n",
    "samples = generate_samples(n_samples, mu1, sigma1, mu2, sigma2)\n",
    "samples = samples.T\n",
    "\n",
    "# plot samples\n",
    "plt.plot(samples, np.zeros(n_samples), 'rx', label=\"Samples\")\n",
    "plt.legend(numpoints=1)\n",
    "plt.title('Samples')\n",
    "plt.ylim(-0.02, max(y)+0.02)\n",
    "plt.show()"
   ]
  },
  {
   "cell_type": "code",
   "execution_count": null,
   "metadata": {},
   "outputs": [],
   "source": [
    "# Generate more samples\n",
    "n_samples = 20\n",
    "samples = generate_samples(n_samples, mu1, sigma1, mu2, sigma2)\n",
    "samples = samples.T\n",
    "\n",
    "# instantiate and fit the KDE model\n",
    "kde = KernelDensity(bandwidth=bandwidth, kernel='gaussian')\n",
    "kde.fit(samples)\n",
    "\n",
    "# score_samples returns the log of the probability density\n",
    "x_d = np.linspace(x_min, x_max, n_samples).reshape(-1, 1)\n",
    "logprob = kde.score_samples(x_d)\n",
    "\n",
    "plt.plot(samples, np.zeros(n_samples), 'rx', label='Samples')\n",
    "plt.plot(x, y, 'b--', label=\"Actual pdf\")\n",
    "plt.plot(x_d, np.exp(logprob), 'r-', label='KDE')\n",
    "plt.legend()\n",
    "plt.title('PDF and KDE (bw={:.2f})'.format(bandwidth))\n",
    "plt.show();"
   ]
  },
  {
   "cell_type": "code",
   "execution_count": null,
   "metadata": {},
   "outputs": [],
   "source": [
    "bandwidths = 10 ** np.linspace(-1, 1, 100)\n",
    "grid = GridSearchCV(KernelDensity(kernel='gaussian'),\n",
    "                    {'bandwidth': bandwidths},\n",
    "                    cv=LeaveOneOut())\n",
    "grid.fit(x[:, None]);\n",
    "bandwidth = grid.best_params_['bandwidth']\n",
    "print('Optimal Bandwidth: {:.2f}'.format(bandwidth))"
   ]
  },
  {
   "cell_type": "code",
   "execution_count": null,
   "metadata": {},
   "outputs": [],
   "source": [
    "# Generate samples\n",
    "n_samples = 20\n",
    "samples = generate_samples(n_samples, mu1, sigma1, mu2, sigma2)\n",
    "samples = samples.T\n",
    "\n",
    "# instantiate and fit the KDE model\n",
    "kde = KernelDensity(bandwidth=bandwidth, kernel='gaussian')\n",
    "kde.fit(samples)\n",
    "\n",
    "# score_samples returns the log of the probability density\n",
    "x_d = np.linspace(x_min, x_max, n_samples).reshape(-1, 1)\n",
    "logprob = kde.score_samples(x_d)\n",
    "\n",
    "# plt.fill_between(x_d, np.exp(logprob), alpha=0.5)\n",
    "plt.plot(samples, np.zeros(n_samples), 'rx', label='Samples')\n",
    "plt.plot(x, y, 'b--', label=\"Actual pdf\")\n",
    "plt.plot(x_d, np.exp(logprob), 'r-', label='KDE')\n",
    "plt.legend()\n",
    "plt.title('PDF and KDE (bw={:.2f})'.format(bandwidth))\n",
    "plt.xlabel('20 samples')\n",
    "plt.show();"
   ]
  },
  {
   "cell_type": "markdown",
   "metadata": {},
   "source": [
    "Effect on the number of samples used to fit the KDE. Let's jump from 20 to 200, with same bandwidth."
   ]
  },
  {
   "cell_type": "code",
   "execution_count": null,
   "metadata": {},
   "outputs": [],
   "source": [
    "# Generate more samples\n",
    "n_samples = 200\n",
    "samples = generate_samples(n_samples, mu1, sigma1, mu2, sigma2)\n",
    "samples = samples.T\n",
    "\n",
    "# instantiate and fit the KDE model\n",
    "kde = KernelDensity(bandwidth=bandwidth, kernel='gaussian')\n",
    "kde.fit(samples)\n",
    "\n",
    "# score_samples returns the log of the probability density\n",
    "x_d = np.linspace(x_min, x_max, n_samples).reshape(-1, 1)\n",
    "logprob = kde.score_samples(x_d)\n",
    "\n",
    "# plt.fill_between(x_d, np.exp(logprob), alpha=0.5)\n",
    "plt.plot(samples, np.zeros(n_samples), 'rx', label='Samples')\n",
    "plt.plot(x, y, 'b--', label=\"Actual pdf\")\n",
    "plt.plot(x_d, np.exp(logprob), 'r-', label='KDE')\n",
    "plt.legend()\n",
    "plt.title('PDF and KDE (bw={:.2f})'.format(bandwidth))\n",
    "plt.xlabel('200 samples')\n",
    "plt.show();"
   ]
  },
  {
   "cell_type": "markdown",
   "metadata": {},
   "source": [
    "## KDE Classifier over HR dataset\n",
    "\n",
    "Mostly from [here](https://github.com/jakevdp/PythonDataScienceHandbook/blob/master/notebooks/05.13-Kernel-Density-Estimation.ipynb)\n",
    "\n",
    "The general approach for **generative classification** is this:\n",
    "\n",
    "1. Split the training data by label.\n",
    "2. For each set, fit a KDE to obtain a generative model of the data. This allows you for any observation $x$ and label $y$ to compute a likelihood $P(x~|~y)$.\n",
    "3. From the number of examples of each class in the training set, compute the class prior, $P(y)$.\n",
    "4. For an unknown point $x$, the posterior probability for each class is $P(y~|~x) \\propto P(x~|~y)P(y)$. The class which maximizes this posterior is the label assigned to the point.\n",
    "\n",
    "The algorithm is straightforward and intuitive to understand; the more difficult piece is couching it within the Scikit-Learn framework in order to make use of the grid search and cross-validation architecture.\n",
    "\n",
    "### Load the HR dataset\n",
    "\n",
    "Perform basic transformation over the features. We will only use numerical features."
   ]
  },
  {
   "cell_type": "code",
   "execution_count": 2,
   "metadata": {},
   "outputs": [
    {
     "name": "stdout",
     "output_type": "stream",
     "text": [
      "Features Summary (numerical):\n",
      "'satisfaction_level'  : float64    Min.(-2.1) 1stQ(-0.6) Med.(0.10) Mean(-1.7) 3rdQ(0.83) Max.(1.55)\n",
      "'last_evaluation'     : float64    Min.(-2.0) 1stQ(-0.9) Med.(0.02) Mean(-4.2) 3rdQ(0.89) Max.(1.65)\n",
      "'average_montly_hours': float64    Min.(-2.1) 1stQ(-0.9) Med.(-0.0) Mean(-4.9) 3rdQ(0.88) Max.(2.18)\n"
     ]
    }
   ],
   "source": [
    "hr = Dataset('./data/hr-analytics.zip')\n",
    "hr.set_target('left')\n",
    "hr.to_categorical(['number_project', 'time_spend_company',\n",
    "                   'promotion_last_5years', 'Work_accident'])\n",
    "hr.scale()\n",
    "hr.summary('numerical')"
   ]
  },
  {
   "cell_type": "code",
   "execution_count": 4,
   "metadata": {},
   "outputs": [],
   "source": [
    "class KDEClassifier(BaseEstimator, ClassifierMixin):\n",
    "    \"\"\"Bayesian generative classification based on KDE\n",
    "    \n",
    "    Parameters\n",
    "    ----------\n",
    "    bandwidth : float\n",
    "        the kernel bandwidth within each class\n",
    "    kernel : str\n",
    "        the kernel name, passed to KernelDensity\n",
    "    \"\"\"\n",
    "    def __init__(self, bandwidth=1.0, kernel='gaussian'):\n",
    "        self.bandwidth = bandwidth\n",
    "        self.kernel = kernel\n",
    "        \n",
    "    def fit(self, X, y):\n",
    "        if isinstance(y, pd.DataFrame):\n",
    "            y = y.values\n",
    "        self.classes_ = np.sort(np.unique(y))\n",
    "        training_sets = [X[y == yi] for yi in self.classes_]\n",
    "        self.models_ = [KernelDensity(bandwidth=self.bandwidth,\n",
    "                                      kernel=self.kernel).fit(Xi)\n",
    "                        for Xi in training_sets]\n",
    "        self.logpriors_ = [np.log(Xi.shape[0] / X.shape[0])\n",
    "                           for Xi in training_sets]\n",
    "        return self\n",
    "        \n",
    "    def predict_proba(self, X):\n",
    "        logprobs = np.array([model.score_samples(X)\n",
    "                             for model in self.models_]).T\n",
    "        result = np.exp(logprobs + self.logpriors_)\n",
    "        return result / result.sum(1, keepdims=True)\n",
    "        \n",
    "    def predict(self, X):\n",
    "        return self.classes_[np.argmax(self.predict_proba(X), 1)]"
   ]
  },
  {
   "cell_type": "code",
   "execution_count": 3,
   "metadata": {},
   "outputs": [
    {
     "ename": "NameError",
     "evalue": "name 'KDEClassifier' is not defined",
     "output_type": "error",
     "traceback": [
      "\u001b[0;31m---------------------------------------------------------------------------\u001b[0m",
      "\u001b[0;31mNameError\u001b[0m                                 Traceback (most recent call last)",
      "\u001b[0;32m<ipython-input-3-da9ac0df175a>\u001b[0m in \u001b[0;36m<module>\u001b[0;34m\u001b[0m\n\u001b[1;32m      3\u001b[0m \u001b[0;34m\u001b[0m\u001b[0m\n\u001b[1;32m      4\u001b[0m \u001b[0mbandwidths\u001b[0m \u001b[0;34m=\u001b[0m \u001b[0;36m10\u001b[0m \u001b[0;34m**\u001b[0m \u001b[0mnp\u001b[0m\u001b[0;34m.\u001b[0m\u001b[0mlinspace\u001b[0m\u001b[0;34m(\u001b[0m\u001b[0;34m-\u001b[0m\u001b[0;36m1\u001b[0m\u001b[0;34m,\u001b[0m \u001b[0;36m0\u001b[0m\u001b[0;34m,\u001b[0m \u001b[0;36m10\u001b[0m\u001b[0;34m)\u001b[0m\u001b[0;34m\u001b[0m\u001b[0;34m\u001b[0m\u001b[0m\n\u001b[0;32m----> 5\u001b[0;31m grid = GridSearchCV(KDEClassifier(), {'bandwidth': bandwidths},\n\u001b[0m\u001b[1;32m      6\u001b[0m                    scoring='accuracy')\n\u001b[1;32m      7\u001b[0m \u001b[0mgrid\u001b[0m\u001b[0;34m.\u001b[0m\u001b[0mfit\u001b[0m\u001b[0;34m(\u001b[0m\u001b[0mhr\u001b[0m\u001b[0;34m.\u001b[0m\u001b[0mselect\u001b[0m\u001b[0;34m(\u001b[0m\u001b[0;34m'numerical'\u001b[0m\u001b[0;34m)\u001b[0m\u001b[0;34m,\u001b[0m \u001b[0mhr\u001b[0m\u001b[0;34m.\u001b[0m\u001b[0mtarget\u001b[0m\u001b[0;34m)\u001b[0m\u001b[0;34m\u001b[0m\u001b[0;34m\u001b[0m\u001b[0m\n",
      "\u001b[0;31mNameError\u001b[0m: name 'KDEClassifier' is not defined"
     ]
    }
   ],
   "source": [
    "from sklearn.datasets import load_digits\n",
    "from sklearn.model_selection import GridSearchCV\n",
    "\n",
    "bandwidths = 10 ** np.linspace(-1, 0, 10)\n",
    "grid = GridSearchCV(KDEClassifier(), {'bandwidth': bandwidths},\n",
    "                   scoring='accuracy')\n",
    "grid.fit(hr.select('numerical'), hr.target)\n",
    "scores = grid.cv_results_['mean_test_score']"
   ]
  },
  {
   "cell_type": "code",
   "execution_count": 12,
   "metadata": {},
   "outputs": [
    {
     "data": {
      "image/png": "[encoded data removed]",
      "text/plain": [
       "<Figure size 432x288 with 1 Axes>"
      ]
     },
     "metadata": {
      "needs_background": "light"
     },
     "output_type": "display_data"
    }
   ],
   "source": [
    "plt.plot(scores)\n",
    "plt.title('Accuracy for KDE classifier')\n",
    "plt.ylabel('Accuracy')\n",
    "plt.xlabel('bandwidth')\n",
    "plt.xticks(np.arange(len(bandwidths)), ['{:.2f}'.format(b) for b in bandwidths])\n",
    "plt.show()"
   ]
  },
  {
   "cell_type": "markdown",
   "metadata": {},
   "source": [
    "We see that this not-so-naive Bayesian KDE classifier reaches a cross-validation accuracy of just over 93%; this is compared to around 76% for the naive Bayesian classification:"
   ]
  },
  {
   "cell_type": "code",
   "execution_count": null,
   "metadata": {},
   "outputs": [],
   "source": [
    "cross_val_score(GaussianNB(), hr.select('numerical'), hr.target).mean()"
   ]
  },
  {
   "cell_type": "markdown",
   "metadata": {},
   "source": [
    "## HR Example"
   ]
  },
  {
   "cell_type": "code",
   "execution_count": 5,
   "metadata": {},
   "outputs": [
    {
     "name": "stdout",
     "output_type": "stream",
     "text": [
      "Features Summary (all):\n",
      "'satisfaction_level'  : float64    Min.(0.09) 1stQ(0.44) Med.(0.64) Mean(0.61) 3rdQ(0.82) Max.(1.0)\n",
      "'last_evaluation'     : float64    Min.(0.36) 1stQ(0.56) Med.(0.72) Mean(0.71) 3rdQ(0.87) Max.(1.0)\n",
      "'average_montly_hours': float64    Min.(96.0) 1stQ(156.) Med.(200.) Mean(201.) 3rdQ(245.) Max.(310.)\n"
     ]
    }
   ],
   "source": [
    "hr = Dataset('data/hr-analytics.zip')\n",
    "hr.set_target('left')\n",
    "hr.to_categorical(['number_project', 'time_spend_company',\n",
    "                   'promotion_last_5years', 'Work_accident'])\n",
    "hr.drop_columns(hr.names('categorical'))\n",
    "hr.summary()"
   ]
  },
  {
   "cell_type": "markdown",
   "metadata": {},
   "source": [
    "Split the dataset and train a classifier. Measure the AUC score, for example."
   ]
  },
  {
   "cell_type": "code",
   "execution_count": 25,
   "metadata": {},
   "outputs": [
    {
     "name": "stdout",
     "output_type": "stream",
     "text": [
      "Avg. Acc: 0.9019 +/- 0.0041\n"
     ]
    }
   ],
   "source": [
    "X, y = hr.split()\n",
    "\n",
    "model = KDEClassifier(bandwidth=0.1)\n",
    "model.fit(X.train, y.train)\n",
    "cv_accuracies = cross_val_score(model, X.train, y.train, cv=5, scoring='accuracy')\n",
    "print('Avg. Acc: {:.4f} +/- {:.4f}'.format(\n",
    "    np.mean(cv_accuracies), np.std(cv_accuracies)))"
   ]
  },
  {
   "cell_type": "markdown",
   "metadata": {},
   "source": [
    "Obtain different metrics"
   ]
  },
  {
   "cell_type": "code",
   "execution_count": 26,
   "metadata": {},
   "outputs": [
    {
     "name": "stdout",
     "output_type": "stream",
     "text": [
      "AuC: 0.8707\n",
      "Acc: 0.9123\n"
     ]
    }
   ],
   "source": [
    "y_pred = model.predict(X.test)\n",
    "auc = roc_auc_score(y.test, y_pred)\n",
    "acc = accuracy_score(y.test, y_pred)\n",
    "\n",
    "print('AuC: {:.4f}'.format(auc))\n",
    "print('Acc: {:.4f}'.format(acc))"
   ]
  },
  {
   "cell_type": "markdown",
   "metadata": {},
   "source": [
    "Plot the ROC"
   ]
  },
  {
   "cell_type": "code",
   "execution_count": 27,
   "metadata": {},
   "outputs": [
    {
     "name": "stdout",
     "output_type": "stream",
     "text": [
      "AUC: 0.959\n"
     ]
    },
    {
     "data": {
      "image/png": "[encoded data removed]",
      "text/plain": [
       "<Figure size 432x288 with 1 Axes>"
      ]
     },
     "metadata": {},
     "output_type": "display_data"
    }
   ],
   "source": [
    "# roc curve and auc\n",
    "probs = model.predict_proba(X.test)\n",
    "# keep probabilities for the positive outcome only\n",
    "probs = probs[:, 1]\n",
    "# calculate AUC\n",
    "auc = roc_auc_score(y.test, probs)\n",
    "print('AUC: %.3f' % auc)\n",
    "\n",
    "# calculate roc curve\n",
    "fpr, tpr, thresholds = roc_curve(y.test, probs)\n",
    "plt.plot([0, 1], [0, 1], linestyle='--')\n",
    "plt.plot(fpr, tpr, marker='.')\n",
    "plt.show();"
   ]
  }
 ],
 "metadata": {
  "kernelspec": {
   "display_name": "Python 3",
   "language": "python",
   "name": "python3"
  },
  "language_info": {
   "codemirror_mode": {
    "name": "ipython",
    "version": 3
   },
   "file_extension": ".py",
   "mimetype": "text/x-python",
   "name": "python",
   "nbconvert_exporter": "python",
   "pygments_lexer": "ipython3",
   "version": "3.6.8"
  },
  "toc": {
   "base_numbering": 1,
   "nav_menu": {},
   "number_sections": true,
   "sideBar": true,
   "skip_h1_title": false,
   "title_cell": "Table of Contents",
   "title_sidebar": "Contents",
   "toc_cell": false,
   "toc_position": {},
   "toc_section_display": true,
   "toc_window_display": false
  }
 },
 "nbformat": 4,
 "nbformat_minor": 2
}
