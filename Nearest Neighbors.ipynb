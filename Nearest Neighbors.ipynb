{
 "cells": [
  {
   "cell_type": "markdown",
   "metadata": {
    "toc": true
   },
   "source": [
    "<h1>Table of Contents<span class=\"tocSkip\"></span></h1>\n",
    "<div class=\"toc\"><ul class=\"toc-item\"><li><span><a href=\"#Nearest-Neighbor-Methods\" data-toc-modified-id=\"Nearest-Neighbor-Methods-1\"><span class=\"toc-item-num\">1&nbsp;&nbsp;</span>Nearest Neighbor Methods</a></span><ul class=\"toc-item\"><li><span><a href=\"#The-OIL-dataset\" data-toc-modified-id=\"The-OIL-dataset-1.1\"><span class=\"toc-item-num\">1.1&nbsp;&nbsp;</span>The OIL dataset</a></span></li></ul></li></ul></div>"
   ]
  },
  {
   "cell_type": "markdown",
   "metadata": {},
   "source": [
    "# Nearest Neighbor Methods"
   ]
  },
  {
   "cell_type": "code",
   "execution_count": 1,
   "metadata": {
    "code_folding": []
   },
   "outputs": [],
   "source": [
    "# Imports\n",
    "import warnings\n",
    "warnings.simplefilter(action='ignore')\n",
    "\n",
    "import pandas as pd\n",
    "import numpy as np\n",
    "import matplotlib.pyplot as plt\n",
    "\n",
    "from matplotlib.colors import ListedColormap\n",
    "from sklearn.preprocessing import KBinsDiscretizer\n",
    "from sklearn.neighbors import KNeighborsClassifier\n",
    "from sklearn.manifold import TSNE\n",
    "from sklearn.metrics import classification_report, accuracy_score\n",
    "from sklearn.model_selection import GridSearchCV\n",
    "\n",
    "from dataset import Dataset"
   ]
  },
  {
   "cell_type": "code",
   "execution_count": 2,
   "metadata": {
    "code_folding": []
   },
   "outputs": [],
   "source": [
    "# Setup the dataset\n",
    "houses = Dataset('./data/houseprices_prepared.csv.gz')\n",
    "houses.set_target('SalePrice');\n",
    "\n",
    "# remove de Id, scale numeric features and remove skenwess\n",
    "houses.drop_columns('Id').scale().ensure_normality()\n",
    "\n",
    "# Known issues with NA's\n",
    "houses.replace_na(column='Electrical', value='Unknown')\n",
    "houses.replace_na(column=houses.names('categorical_na'), value='None');\n",
    "\n",
    "# Some FE basic stuff to reduce some features by aggregating them\n",
    "houses.aggregate(['1stFlrSF','2ndFlrSF','BsmtFinSF1','BsmtFinSF2'], 'HouseSF')\n",
    "houses.aggregate(['OpenPorchSF','3SsnPorch','EnclosedPorch','ScreenPorch',\n",
    "                  'WoodDeckSF'], 'HousePorch')\n",
    "houses.aggregate(['FullBath', 'BsmtFullBath', 'HalfBath', 'BsmtHalfBath'], \n",
    "                  'HouseBaths')"
   ]
  },
  {
   "cell_type": "code",
   "execution_count": null,
   "metadata": {},
   "outputs": [],
   "source": []
  },
  {
   "cell_type": "markdown",
   "metadata": {},
   "source": [
    "My _k-NN_ problem will address the modeling using ONLY the numeric features, so I create a new Dataset called `subset` that will only contain numericals."
   ]
  },
  {
   "cell_type": "code",
   "execution_count": null,
   "metadata": {},
   "outputs": [],
   "source": [
    "subset_df = pd.concat([houses.select('numerical'), houses.target], axis=1)\n",
    "subset = Dataset.from_dataframe(subset_df).set_target('SalePrice')\n",
    "subset.describe()"
   ]
  },
  {
   "cell_type": "code",
   "execution_count": null,
   "metadata": {},
   "outputs": [],
   "source": [
    "houses.select('numerical')"
   ]
  },
  {
   "cell_type": "markdown",
   "metadata": {},
   "source": [
    "I need to make my problem suitable for a classification algorithm like _k-NN_. So, given that my target variable is a continuous number, I must discretize it, so I decide to bin it, using the convenient method `KBinsDiscretizer` is Scikit Learn. I start by binning in 5 different buckets, but I can change that later. This means that my problem is now a classification problem where the `SalePrice` is now a value between 0 and 4."
   ]
  },
  {
   "cell_type": "code",
   "execution_count": null,
   "metadata": {},
   "outputs": [],
   "source": [
    "saleprice_enc = KBinsDiscretizer(n_bins=5, encode='ordinal', strategy='kmeans')\n",
    "saleprice_enc.fit(subset.target.values.reshape(-1, 1))\n",
    "\n",
    "y_enc = saleprice_enc.transform(subset.target.values.reshape(-1, 1))\n",
    "subset.target = pd.Series(y_enc.ravel(), name='SalePrice')"
   ]
  },
  {
   "cell_type": "markdown",
   "metadata": {},
   "source": [
    "I think I can go for KNN now."
   ]
  },
  {
   "cell_type": "code",
   "execution_count": null,
   "metadata": {},
   "outputs": [],
   "source": [
    "X, y = subset.split()\n",
    "knn = KNeighborsClassifier(n_neighbors=5)\n",
    "knn.fit(X.train.values, y.train.values)\n",
    "\n",
    "#Predict the response for test dataset\n",
    "y_pred = knn.predict(X.test.values)\n",
    "# Model Accuracy, how often is the classifier correct?\n",
    "print(\"Accuracy:\", accuracy_score(y.test, y_pred))"
   ]
  },
  {
   "cell_type": "markdown",
   "metadata": {},
   "source": [
    "Let's find the best value for K, using cross validation"
   ]
  },
  {
   "cell_type": "code",
   "execution_count": null,
   "metadata": {},
   "outputs": [],
   "source": [
    "tuned_parameters = [{'n_neighbors': [2,3,5,7,9]}]\n",
    "scores = ['precision', 'recall']\n",
    "for score in scores:\n",
    "    print(\"# Tuning hyper-parameters for %s\" % score)\n",
    "    print()\n",
    "    clf = GridSearchCV(KNeighborsClassifier(), \n",
    "                       tuned_parameters, \n",
    "                       cv=5,\n",
    "                       scoring='%s_macro' % score)\n",
    "    clf.fit(X.train, y.train)\n",
    "    print(\"Best parameters set found on development set:\")\n",
    "    print()\n",
    "    print(clf.best_params_)\n",
    "    print()\n",
    "    print(\"Grid scores on development set:\")\n",
    "    print()\n",
    "    means = clf.cv_results_['mean_test_score']\n",
    "    stds = clf.cv_results_['std_test_score']\n",
    "    for mean, std, params in zip(means, stds, clf.cv_results_['params']):\n",
    "        print(\"%0.3f (+/-%0.03f) for %r\"\n",
    "              % (mean, std * 2, params))\n",
    "    print()\n",
    "    print(\"Detailed classification report:\")\n",
    "    print()\n",
    "    print(\"The model is trained on the full development set.\")\n",
    "    print(\"The scores are computed on the full evaluation set.\")\n",
    "    print()\n",
    "    y_true, y_pred = y.test, clf.predict(X.test)\n",
    "    print(classification_report(y_true, y_pred))"
   ]
  },
  {
   "cell_type": "markdown",
   "metadata": {},
   "source": [
    "Plot the results using t-SNE. To know more about, refer to this [link](https://distill.pub/2016/misread-tsne/)"
   ]
  },
  {
   "cell_type": "code",
   "execution_count": null,
   "metadata": {},
   "outputs": [],
   "source": [
    "colors = ['red','green','blue','purple','orange']\n",
    "perplexity=30\n",
    "X_embedded = TSNE(n_components=2, perplexity=perplexity).fit_transform(X.test)\n",
    "plt.scatter(X_embedded[:, :1], X_embedded[:, 1:2], \n",
    "            c=y_pred.reshape(-1,1),\n",
    "            cmap=ListedColormap(colors))\n",
    "plt.title(\"Perplexity={}\".format(perplexity))\n",
    "plt.show();"
   ]
  },
  {
   "cell_type": "code",
   "execution_count": null,
   "metadata": {},
   "outputs": [],
   "source": [
    "for perplexity in perplexities:\n",
    "    print(np.floor(perplexities.index(perplexity) / 3))"
   ]
  },
  {
   "cell_type": "markdown",
   "metadata": {},
   "source": [
    "## The OIL dataset\n",
    "\n",
    "Available [here](http://inverseprobability.com/3PhaseData.html).\n",
    "Configuration labels, originally as dummy variables:\n",
    "\n",
    "    [1 0 0] == Homogeneous configuration\n",
    "    [0 1 0] == Annular configuration\n",
    "    [0 0 1] == Stratified configuration\n",
    "\n",
    "We convert them into a single categorical 3-valued character."
   ]
  },
  {
   "cell_type": "code",
   "execution_count": null,
   "metadata": {},
   "outputs": [],
   "source": [
    "oil_dummy_labels = ['1','2','3']\n",
    "oil_labels = Dataset('/Users/renero/Downloads/3PhData/DataTrnLbls.txt', \n",
    "                     header=None,\n",
    "                     sep='  ', \n",
    "                     names=oil_dummy_labels)\n",
    "# Transform the dummies into the actual category label (column name)\n",
    "oil_labels.features['target'] = oil_labels.features.idxmax(axis=1)\n",
    "oil_labels.drop_columns(oil_dummy_labels);"
   ]
  },
  {
   "cell_type": "markdown",
   "metadata": {},
   "source": [
    "We read the actual values in the training set, setting the variable names as $x_1$, ... to $x_{12}$."
   ]
  },
  {
   "cell_type": "code",
   "execution_count": null,
   "metadata": {},
   "outputs": [],
   "source": [
    "oil_data = Dataset('/Users/renero/Downloads/3PhData/DataTrn.txt', \n",
    "                     header=None,\n",
    "                     sep='  ', \n",
    "                     names=['x{}'.format(i+1) for i in range(12)])"
   ]
  },
  {
   "cell_type": "markdown",
   "metadata": {},
   "source": [
    "Finally, we merge both datasets to form a single one with the target variable properly set as 'Configuration'."
   ]
  },
  {
   "cell_type": "code",
   "execution_count": null,
   "metadata": {},
   "outputs": [],
   "source": [
    "oil = Dataset.from_dataframe(\n",
    "    pd.concat([oil_data.features, oil_labels.features], axis=1))\n",
    "oil.set_target('target');\n",
    "oil.data.head(3)"
   ]
  },
  {
   "cell_type": "code",
   "execution_count": null,
   "metadata": {},
   "outputs": [],
   "source": [
    "colors = ['red','green','blue','purple','orange']\n",
    "plt.scatter(oil.features.iloc[:, 5], oil.features.iloc[:, 6], \n",
    "            c=oil.target.values.reshape(-1, 1),\n",
    "            cmap=ListedColormap(colors))"
   ]
  },
  {
   "cell_type": "code",
   "execution_count": null,
   "metadata": {},
   "outputs": [],
   "source": [
    "oil.target.values.shape"
   ]
  },
  {
   "cell_type": "code",
   "execution_count": null,
   "metadata": {},
   "outputs": [],
   "source": []
  },
  {
   "cell_type": "code",
   "execution_count": null,
   "metadata": {},
   "outputs": [],
   "source": []
  },
  {
   "cell_type": "code",
   "execution_count": null,
   "metadata": {},
   "outputs": [],
   "source": [
    "# Plot the decision boundary. For that, we will assign a color to each\n",
    "# point in the mesh [x_min, x_max]x[y_min, y_max].\n",
    "# https://scikit-learn.org/stable/auto_examples/neighbors/plot_classification.html\n",
    "\n",
    "h = .02  # step size in the mesh\n",
    "n_neighbors = 5\n",
    "\n",
    "x_min, x_max = X.test.values[:, :2].min() - 1, X.test.values[:, :2].max() + 1\n",
    "y_min, y_max = y.test.values.min() - 1, y.test.values.max() + 1\n",
    "xx, yy = np.meshgrid(np.arange(x_min, x_max, h),\n",
    "                     np.arange(y_min, y_max, h))\n",
    "Z = knn.predict(np.c_[xx.ravel(), yy.ravel()])\n",
    "Z = Z.reshape(xx.shape)"
   ]
  },
  {
   "cell_type": "code",
   "execution_count": null,
   "metadata": {},
   "outputs": [],
   "source": [
    "# Create color maps\n",
    "cmap_light = ListedColormap(['#FFAAAA', '#AAFFAA', '#AAAAFF'])\n",
    "cmap_bold = ListedColormap(['#FF0000', '#00FF00', '#0000FF'])\n",
    "\n",
    "plt.figure()\n",
    "plt.pcolormesh(xx, yy, Z)#, cmap=cmap_light)\n",
    "\n",
    "# Plot also the training points\n",
    "plt.scatter(X.test.values[:, :1], X.test.values[:, 1:2], c=y.test.values)#, \n",
    "            #cmap=cmap_bold,\n",
    "            #edgecolor='k', \n",
    "            #s=20)\n",
    "plt.xlim(xx.min(), xx.max())\n",
    "plt.ylim(yy.min(), yy.max())\n",
    "plt.title(\"3-Class classification (k = %i)\" % n_neighbors)\n",
    "\n",
    "plt.show()"
   ]
  },
  {
   "cell_type": "code",
   "execution_count": null,
   "metadata": {},
   "outputs": [],
   "source": []
  }
 ],
 "metadata": {
  "kernelspec": {
   "display_name": "Python 3",
   "language": "python",
   "name": "python3"
  },
  "language_info": {
   "codemirror_mode": {
    "name": "ipython",
    "version": 3
   },
   "file_extension": ".py",
   "mimetype": "text/x-python",
   "name": "python",
   "nbconvert_exporter": "python",
   "pygments_lexer": "ipython3",
   "version": "3.6.8"
  },
  "toc": {
   "base_numbering": 1,
   "nav_menu": {},
   "number_sections": true,
   "sideBar": true,
   "skip_h1_title": false,
   "title_cell": "Table of Contents",
   "title_sidebar": "Contents",
   "toc_cell": true,
   "toc_position": {},
   "toc_section_display": true,
   "toc_window_display": false
  }
 },
 "nbformat": 4,
 "nbformat_minor": 2
}
