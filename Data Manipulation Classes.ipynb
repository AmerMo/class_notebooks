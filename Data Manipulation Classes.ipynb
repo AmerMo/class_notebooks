{
 "cells": [
  {
   "cell_type": "markdown",
   "metadata": {
    "toc": true
   },
   "source": [
    "<h1>Table of Contents<span class=\"tocSkip\"></span></h1>\n",
    "<div class=\"toc\"><ul class=\"toc-item\"><li><span><a href=\"#Dataset-Class\" data-toc-modified-id=\"Dataset-Class-1\"><span class=\"toc-item-num\">1&nbsp;&nbsp;</span>Dataset Class</a></span><ul class=\"toc-item\"><li><span><a href=\"#Basic-data-manipulation-functions\" data-toc-modified-id=\"Basic-data-manipulation-functions-1.1\"><span class=\"toc-item-num\">1.1&nbsp;&nbsp;</span>Basic data manipulation functions</a></span><ul class=\"toc-item\"><li><span><a href=\"#Load-data-from-dataframe\" data-toc-modified-id=\"Load-data-from-dataframe-1.1.1\"><span class=\"toc-item-num\">1.1.1&nbsp;&nbsp;</span>Load data from dataframe</a></span></li><li><span><a href=\"#Access-feature-(column)-names\" data-toc-modified-id=\"Access-feature-(column)-names-1.1.2\"><span class=\"toc-item-num\">1.1.2&nbsp;&nbsp;</span>Access feature (column) names</a></span></li><li><span><a href=\"#Replace-NA\" data-toc-modified-id=\"Replace-NA-1.1.3\"><span class=\"toc-item-num\">1.1.3&nbsp;&nbsp;</span>Replace NA</a></span></li></ul></li></ul></li></ul></div>"
   ]
  },
  {
   "cell_type": "markdown",
   "metadata": {},
   "source": [
    "# Dataset Class\n",
    "\n",
    "This class collects the helper methods to be used along the different lessons, specifically for data preparation and basic feature engineering.\n",
    "\n",
    "To start using it, simply add\n",
    "\n",
    "    from src.dataset import Dataset"
   ]
  },
  {
   "cell_type": "code",
   "execution_count": 8,
   "metadata": {
    "code_folding": [],
    "hide_input": false
   },
   "outputs": [],
   "source": [
    "# imports\n",
    "import numpy as np\n",
    "import pandas as pd\n",
    "import statsmodels.api as sm\n",
    "import warnings\n",
    "\n",
    "from src.dataset import Dataset\n",
    "\n",
    "warnings.simplefilter(action='ignore')\n",
    "warnings.filterwarnings(action='once')"
   ]
  },
  {
   "cell_type": "code",
   "execution_count": 9,
   "metadata": {
    "scrolled": true
   },
   "outputs": [
    {
     "name": "stdout",
     "output_type": "stream",
     "text": [
      "\n",
      "Available types: [dtype('int64') dtype('O') dtype('float64')]\n",
      "79 Features\n",
      "43 categorical features\n",
      "36 numerical features\n",
      "16 categorical features with NAs\n",
      "0 numerical features with NAs\n",
      "63 Complete features\n",
      "--\n",
      "Target: SalePrice\n"
     ]
    }
   ],
   "source": [
    "houses = Dataset('./data/houseprices_prepared.csv.gz')\n",
    "houses.set_target('SalePrice')\n",
    "houses.describe()"
   ]
  },
  {
   "cell_type": "markdown",
   "metadata": {},
   "source": [
    "## Basic data manipulation functions\n",
    "\n",
    "### Load data from dataframe\n",
    "\n",
    "To load data from an existing dataframe into this class, use:"
   ]
  },
  {
   "cell_type": "code",
   "execution_count": 12,
   "metadata": {},
   "outputs": [
    {
     "name": "stdout",
     "output_type": "stream",
     "text": [
      "\n",
      "Available types: [dtype('int64') dtype('O') dtype('float64')]\n",
      "79 Features\n",
      "43 categorical features\n",
      "36 numerical features\n",
      "16 categorical features with NAs\n",
      "0 numerical features with NAs\n",
      "63 Complete features\n",
      "--\n",
      "Target: SalePrice\n"
     ]
    }
   ],
   "source": [
    "my_existing_dataframe = pd.read_csv('./data/houseprices_prepared.csv.gz')\n",
    "del(houses)\n",
    "\n",
    "houses = Dataset.from_dataframe(my_existing_dataframe)\n",
    "houses.set_target('SalePrice')\n",
    "houses.describe()"
   ]
  },
  {
   "cell_type": "markdown",
   "metadata": {},
   "source": [
    "### Access feature (column) names\n",
    "\n",
    "Print a convenient table with the list of features that are categorical and contains NA. Other options are:\n",
    "\n",
    "  - all (default)\n",
    "  - features\n",
    "  - target\n",
    "  - complete\n",
    "  - numerical\n",
    "  - numerical_na\n",
    "  - categorical"
   ]
  },
  {
   "cell_type": "markdown",
   "metadata": {},
   "source": [
    "To display features of any type in table format, which is more convenient when there're many of them, use:"
   ]
  },
  {
   "cell_type": "code",
   "execution_count": 13,
   "metadata": {
    "scrolled": true
   },
   "outputs": [
    {
     "name": "stdout",
     "output_type": "stream",
     "text": [
      "-----------------------------------------------------------------------------\n",
      "Alley        MasVnrType   BsmtQual     BsmtCond     BsmtExposure BsmtFinType1 \n",
      "BsmtFinType2 Electrical   FireplaceQu  GarageType   GarageFinish GarageQual   \n",
      "GarageCond   PoolQC       Fence        MiscFeature  \n",
      "-----------------------------------------------------------------------------\n"
     ]
    }
   ],
   "source": [
    "houses.table('categorical_na')"
   ]
  },
  {
   "cell_type": "markdown",
   "metadata": {},
   "source": [
    "### Replace NA\n",
    "\n",
    "Replace the NA's by new values in all 'categorical_na' features. There's a special case called 'Electrical' where NA is replaced by 'Unknown'. As you can see, you can pass a single column name or a list of column names.\n",
    "\n",
    "To obtain a list of names from the dataset for each type of feature, we use `dataset.names(kind)`."
   ]
  },
  {
   "cell_type": "code",
   "execution_count": 4,
   "metadata": {},
   "outputs": [],
   "source": [
    "houses.replace_na(column='Electrical', value='Unknown')\n",
    "houses.replace_na(column=houses.names('categorical_na'), value='None')\n",
    "houses.table('categorical_na')"
   ]
  },
  {
   "cell_type": "markdown",
   "metadata": {},
   "source": [
    "Describe now the dataset to check that there're no NA among the categorical variables!"
   ]
  },
  {
   "cell_type": "code",
   "execution_count": 5,
   "metadata": {
    "scrolled": true
   },
   "outputs": [
    {
     "name": "stdout",
     "output_type": "stream",
     "text": [
      "\n",
      "Available types: [dtype('int64') dtype('O') dtype('float64')]\n",
      "79 Features\n",
      "43 categorical features\n",
      "36 numerical features\n",
      "0 categorical features with NAs\n",
      "0 numerical features with NAs\n",
      "79 Complete features\n",
      "--\n",
      "Target: SalePrice\n"
     ]
    }
   ],
   "source": [
    "houses.describe()"
   ]
  },
  {
   "cell_type": "code",
   "execution_count": null,
   "metadata": {},
   "outputs": [],
   "source": []
  }
 ],
 "metadata": {
  "kernelspec": {
   "display_name": "Python 3",
   "language": "python",
   "name": "python3"
  },
  "language_info": {
   "codemirror_mode": {
    "name": "ipython",
    "version": 3
   },
   "file_extension": ".py",
   "mimetype": "text/x-python",
   "name": "python",
   "nbconvert_exporter": "python",
   "pygments_lexer": "ipython3",
   "version": "3.6.5"
  },
  "toc": {
   "base_numbering": 1,
   "nav_menu": {
    "height": "247px",
    "width": "230px"
   },
   "number_sections": true,
   "sideBar": true,
   "skip_h1_title": false,
   "title_cell": "Table of Contents",
   "title_sidebar": "Contents",
   "toc_cell": true,
   "toc_position": {},
   "toc_section_display": true,
   "toc_window_display": false
  }
 },
 "nbformat": 4,
 "nbformat_minor": 2
}
