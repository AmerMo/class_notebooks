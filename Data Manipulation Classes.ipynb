{
 "cells": [
  {
   "cell_type": "markdown",
   "metadata": {
    "toc": true
   },
   "source": [
    "<h1>Table of Contents<span class=\"tocSkip\"></span></h1>\n",
    "<div class=\"toc\"><ul class=\"toc-item\"><li><span><a href=\"#Dataset-Class\" data-toc-modified-id=\"Dataset-Class-1\"><span class=\"toc-item-num\">1&nbsp;&nbsp;</span>Dataset Class</a></span><ul class=\"toc-item\"><li><span><a href=\"#Basic-data-manipulation-functions\" data-toc-modified-id=\"Basic-data-manipulation-functions-1.1\"><span class=\"toc-item-num\">1.1&nbsp;&nbsp;</span>Basic data manipulation functions</a></span><ul class=\"toc-item\"><li><span><a href=\"#Load-data-from-dataframe\" data-toc-modified-id=\"Load-data-from-dataframe-1.1.1\"><span class=\"toc-item-num\">1.1.1&nbsp;&nbsp;</span>Load data from dataframe</a></span></li><li><span><a href=\"#Access-feature-(column)-names\" data-toc-modified-id=\"Access-feature-(column)-names-1.1.2\"><span class=\"toc-item-num\">1.1.2&nbsp;&nbsp;</span>Access feature (column) names</a></span></li></ul></li><li><span><a href=\"#Basic-Data-Preparation-methods\" data-toc-modified-id=\"Basic-Data-Preparation-methods-1.2\"><span class=\"toc-item-num\">1.2&nbsp;&nbsp;</span>Basic Data Preparation methods</a></span><ul class=\"toc-item\"><li><span><a href=\"#Replace-NA\" data-toc-modified-id=\"Replace-NA-1.2.1\"><span class=\"toc-item-num\">1.2.1&nbsp;&nbsp;</span>Replace NA</a></span></li><li><span><a href=\"#Fix-numerical-features\" data-toc-modified-id=\"Fix-numerical-features-1.2.2\"><span class=\"toc-item-num\">1.2.2&nbsp;&nbsp;</span>Fix numerical features</a></span></li></ul></li><li><span><a href=\"#Basic-Feature-Selection-methods\" data-toc-modified-id=\"Basic-Feature-Selection-methods-1.3\"><span class=\"toc-item-num\">1.3&nbsp;&nbsp;</span>Basic Feature Selection methods</a></span><ul class=\"toc-item\"><li><span><a href=\"#Under-represented-features-and-Correlation\" data-toc-modified-id=\"Under-represented-features-and-Correlation-1.3.1\"><span class=\"toc-item-num\">1.3.1&nbsp;&nbsp;</span>Under represented features and Correlation</a></span></li><li><span><a href=\"#Wrapper-method:-stepwise-feature-selection\" data-toc-modified-id=\"Wrapper-method:-stepwise-feature-selection-1.3.2\"><span class=\"toc-item-num\">1.3.2&nbsp;&nbsp;</span>Wrapper method: stepwise feature selection</a></span></li></ul></li></ul></li></ul></div>"
   ]
  },
  {
   "cell_type": "markdown",
   "metadata": {},
   "source": [
    "# Dataset Class\n",
    "\n",
    "This class collects the helper methods to be used along the different lessons, specifically for data preparation and basic feature engineering.\n",
    "\n",
    "To start using it, simply add\n",
    "\n",
    "    from dataset import Dataset"
   ]
  },
  {
   "cell_type": "code",
   "execution_count": 13,
   "metadata": {
    "code_folding": [
     0
    ],
    "hide_input": false
   },
   "outputs": [],
   "source": [
    "# imports\n",
    "import numpy as np\n",
    "import pandas as pd\n",
    "import statsmodels.api as sm\n",
    "import copy\n",
    "import warnings\n",
    "\n",
    "from sklearn.linear_model import LinearRegression\n",
    "from sklearn.model_selection import cross_val_score, ShuffleSplit\n",
    "from sklearn.preprocessing import PolynomialFeatures\n",
    "from sklearn.pipeline import Pipeline, make_pipeline\n",
    "\n",
    "from dataset import Dataset\n",
    "\n",
    "warnings.simplefilter(action='ignore')"
   ]
  },
  {
   "cell_type": "code",
   "execution_count": 4,
   "metadata": {
    "scrolled": true
   },
   "outputs": [
    {
     "name": "stdout",
     "output_type": "stream",
     "text": [
      "\n",
      "Available types: [dtype('int64') dtype('O') dtype('float64')]\n",
      "79 Features\n",
      "43 categorical features\n",
      "36 numerical features\n",
      "16 categorical features with NAs\n",
      "0 numerical features with NAs\n",
      "63 Complete features\n",
      "--\n",
      "Target: SalePrice\n"
     ]
    }
   ],
   "source": [
    "houses = Dataset('./data/houseprices_prepared.csv.gz')\n",
    "houses.set_target('SalePrice')\n",
    "houses.describe()"
   ]
  },
  {
   "cell_type": "markdown",
   "metadata": {},
   "source": [
    "## Basic data manipulation functions\n",
    "\n",
    "### Load data from dataframe\n",
    "\n",
    "To load data from an existing dataframe into this class, use:"
   ]
  },
  {
   "cell_type": "code",
   "execution_count": 5,
   "metadata": {},
   "outputs": [
    {
     "name": "stdout",
     "output_type": "stream",
     "text": [
      "\n",
      "Available types: [dtype('int64') dtype('O') dtype('float64')]\n",
      "79 Features\n",
      "43 categorical features\n",
      "36 numerical features\n",
      "16 categorical features with NAs\n",
      "0 numerical features with NAs\n",
      "63 Complete features\n",
      "--\n",
      "Target: SalePrice\n"
     ]
    }
   ],
   "source": [
    "my_existing_dataframe = pd.read_csv('./data/houseprices_prepared.csv.gz')\n",
    "del(houses)\n",
    "\n",
    "houses = Dataset.from_dataframe(my_existing_dataframe)\n",
    "houses.set_target('SalePrice')\n",
    "houses.describe()"
   ]
  },
  {
   "cell_type": "markdown",
   "metadata": {},
   "source": [
    "### Access feature (column) names\n",
    "\n",
    "Print a convenient table with the list of features that are categorical and contains NA. Other options are:\n",
    "\n",
    "  - all (default)\n",
    "  - features\n",
    "  - target\n",
    "  - complete\n",
    "  - numerical\n",
    "  - numerical_na\n",
    "  - categorical"
   ]
  },
  {
   "cell_type": "markdown",
   "metadata": {},
   "source": [
    "To display features of any type in table format, which is more convenient when there're many of them, use:"
   ]
  },
  {
   "cell_type": "code",
   "execution_count": 6,
   "metadata": {
    "scrolled": true
   },
   "outputs": [
    {
     "name": "stdout",
     "output_type": "stream",
     "text": [
      "-----------------------------------------------------------------------------\n",
      "Alley        MasVnrType   BsmtQual     BsmtCond     BsmtExposure BsmtFinType1 \n",
      "BsmtFinType2 Electrical   FireplaceQu  GarageType   GarageFinish GarageQual   \n",
      "GarageCond   PoolQC       Fence        MiscFeature  \n",
      "-----------------------------------------------------------------------------\n"
     ]
    }
   ],
   "source": [
    "houses.table('categorical_na')"
   ]
  },
  {
   "cell_type": "markdown",
   "metadata": {},
   "source": [
    "## Basic Data Preparation methods\n",
    "\n",
    "### Replace NA\n",
    "\n",
    "Replace the NA's by new values in all 'categorical_na' features. There's a special case called 'Electrical' where NA is replaced by 'Unknown'. As you can see, you can pass a single column name or a list of column names.\n",
    "\n",
    "To obtain a list of names from the dataset for each type of feature, we use `dataset.names(kind)`.\n",
    "\n",
    "Describe then the dataset to check that there're no NA among the categorical variables!"
   ]
  },
  {
   "cell_type": "code",
   "execution_count": 7,
   "metadata": {},
   "outputs": [
    {
     "name": "stdout",
     "output_type": "stream",
     "text": [
      "\n",
      "Available types: [dtype('int64') dtype('O') dtype('float64')]\n",
      "79 Features\n",
      "43 categorical features\n",
      "36 numerical features\n",
      "0 categorical features with NAs\n",
      "0 numerical features with NAs\n",
      "79 Complete features\n",
      "--\n",
      "Target: SalePrice\n"
     ]
    }
   ],
   "source": [
    "houses.replace_na(column='Electrical', value='Unknown')\n",
    "houses.replace_na(column=houses.names('categorical_na'), value='None')\n",
    "houses.table('categorical_na')\n",
    "\n",
    "houses.describe()"
   ]
  },
  {
   "cell_type": "markdown",
   "metadata": {},
   "source": [
    "### Fix numerical features\n",
    "\n",
    "Basically, we must scale them to the same range of values, ensuring mean in 0, and std deviation = 1. After taht, we will fix skewness, if present."
   ]
  },
  {
   "cell_type": "code",
   "execution_count": 8,
   "metadata": {},
   "outputs": [],
   "source": [
    "houses.scale()\n",
    "houses.ensure_normality()"
   ]
  },
  {
   "cell_type": "markdown",
   "metadata": {},
   "source": [
    "## Basic Feature Selection methods\n",
    "\n",
    "### Under represented features and Correlation\n",
    "\n",
    "It's time to see if we've under represented features, or features that are highly correlated, and therefore we could drop them."
   ]
  },
  {
   "cell_type": "code",
   "execution_count": 9,
   "metadata": {},
   "outputs": [
    {
     "name": "stdout",
     "output_type": "stream",
     "text": [
      "Dropping 5 under represented features\n",
      "Dropping 5 highly correlated features\n",
      "\n",
      "Available types: [dtype('float64') dtype('O')]\n",
      "69 Features\n",
      "36 categorical features\n",
      "33 numerical features\n",
      "0 categorical features with NAs\n",
      "0 numerical features with NAs\n",
      "69 Complete features\n",
      "--\n",
      "Target: SalePrice\n"
     ]
    }
   ],
   "source": [
    "under_represented_features = houses.under_represented_features()\n",
    "houses.drop_columns(under_represented_features)\n",
    "print('Dropping {} under represented features'.format(\n",
    "    len(under_represented_features)))\n",
    "\n",
    "redundant_features = houses.correlated(threshold=0.7)\n",
    "houses.drop_columns(redundant_features)\n",
    "print('Dropping {} highly correlated features'.format(\n",
    "    len(redundant_features)))\n",
    "\n",
    "houses.describe()"
   ]
  },
  {
   "cell_type": "markdown",
   "metadata": {},
   "source": [
    "### Wrapper method: stepwise feature selection\n",
    "\n",
    "Scikit Learn lacks its own implementation of stepwise selection because deliberately avoids inferential approach to model learning. This means that feature selection based on a significance test like $p-value$ is strongly discouraged, at least, in this package.\n",
    "\n",
    "The Dataset method implements a forward & backward feature selection based on the p-value from a Ordinary Least Squares optimization for simple linear regression. The requisite is to count on numerical features to fit the linear model and check variables importance.\n",
    "\n",
    "The algorithm\n",
    "\n",
    "    1. set columns available = all_columns\n",
    "    2. while a new column is added or removed\n",
    "       3.  find the minimum p-value in all the colummns available\n",
    "       4.  if the minimum p-value found < MIN_P_VALUE\n",
    "           5. add that colum to the list of features selected\n",
    "       6.  find the maximum p-value in all features selected\n",
    "       7.  if the maximum p-value found > MAX_P_VALUE\n",
    "           8. drop that colum from the list of features selected"
   ]
  },
  {
   "cell_type": "code",
   "execution_count": 10,
   "metadata": {},
   "outputs": [
    {
     "name": "stdout",
     "output_type": "stream",
     "text": [
      "Selected 38 features, from original 254 set\n",
      "\n",
      "Available types: [dtype('float64') dtype('uint8')]\n",
      "38 Features\n",
      "0 categorical features\n",
      "38 numerical features\n",
      "0 categorical features with NAs\n",
      "0 numerical features with NAs\n",
      "38 Complete features\n",
      "--\n",
      "Target: SalePrice\n"
     ]
    }
   ],
   "source": [
    "houses.onehot_encode()\n",
    "best_features = houses.stepwise_selection(verbose=False)\n",
    "print('Selected {} features, from original {} set'.format(\n",
    "    len(best_features), len(houses.names('features'))))\n",
    "\n",
    "houses.keep_columns(best_features)\n",
    "houses.describe()"
   ]
  },
  {
   "cell_type": "code",
   "execution_count": 12,
   "metadata": {},
   "outputs": [
    {
     "name": "stdout",
     "output_type": "stream",
     "text": [
      "Obtained 100 positive R2 scores\n",
      "Best Validation R2: 0.90\n",
      "Avg. Validation R2: 0.85\n"
     ]
    }
   ],
   "source": [
    "X, y = houses.split()\n",
    "model = LinearRegression()\n",
    "cv = ShuffleSplit(n_splits=100, test_size=0.2, random_state=666)\n",
    "scores = cross_val_score(model, \n",
    "                         X.train, y.train, \n",
    "                         cv=cv, \n",
    "                         scoring='r2')\n",
    "print('Obtained {} positive R2 scores'.format(len(scores[scores > 0.0])))\n",
    "print('Best Validation R2: {:.2f}'.format(max(scores)))\n",
    "print('Avg. Validation R2: {:.2f}'.format(np.mean(scores[scores > 0.0])))"
   ]
  },
  {
   "cell_type": "code",
   "execution_count": 15,
   "metadata": {
    "scrolled": true
   },
   "outputs": [
    {
     "name": "stdout",
     "output_type": "stream",
     "text": [
      "--------------------------------------------------------------\n",
      "MSSubClass           LotArea              OverallQual          \n",
      "OverallCond          YearBuilt            BsmtFinSF1           \n",
      "GrLivArea            FullBath             Fireplaces           \n",
      "GarageCars           LotFrontage          MSZoning_C (all)     \n",
      "LandContour_Bnk      LotConfig_FR2        Neighborhood_BrkSide \n",
      "Neighborhood_Crawfor Neighborhood_Edwards Neighborhood_NoRidge \n",
      "Neighborhood_NridgHt Neighborhood_Somerst Neighborhood_StoneBr \n",
      "Condition1_Norm      BldgType_Duplex      Exterior1st_BrkFace  \n",
      "ExterQual_Ex         ExterQual_TA         BsmtQual_Ex          \n",
      "BsmtExposure_Av      BsmtExposure_Gd      KitchenQual_Ex       \n",
      "Functional_Typ       FireplaceQu_None     GarageType_2Types    \n",
      "GarageType_None      GarageFinish_None    GarageQual_Ex        \n",
      "GarageQual_None      SaleType_New         \n",
      "--------------------------------------------------------------\n"
     ]
    }
   ],
   "source": [
    "houses.table('features')"
   ]
  },
  {
   "cell_type": "code",
   "execution_count": null,
   "metadata": {},
   "outputs": [],
   "source": []
  }
 ],
 "metadata": {
  "kernelspec": {
   "display_name": "Python 3",
   "language": "python",
   "name": "python3"
  },
  "language_info": {
   "codemirror_mode": {
    "name": "ipython",
    "version": 3
   },
   "file_extension": ".py",
   "mimetype": "text/x-python",
   "name": "python",
   "nbconvert_exporter": "python",
   "pygments_lexer": "ipython3",
   "version": "3.6.8"
  },
  "toc": {
   "base_numbering": 1,
   "nav_menu": {
    "height": "247px",
    "width": "230px"
   },
   "number_sections": true,
   "sideBar": true,
   "skip_h1_title": false,
   "title_cell": "Table of Contents",
   "title_sidebar": "Contents",
   "toc_cell": true,
   "toc_position": {},
   "toc_section_display": true,
   "toc_window_display": false
  }
 },
 "nbformat": 4,
 "nbformat_minor": 2
}
