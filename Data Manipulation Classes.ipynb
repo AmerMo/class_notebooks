{
 "cells": [
  {
   "cell_type": "markdown",
   "metadata": {
    "toc": true
   },
   "source": [
    "<h1>Table of Contents<span class=\"tocSkip\"></span></h1>\n",
    "<div class=\"toc\"><ul class=\"toc-item\"><li><span><a href=\"#Data-Manipulation-Classes\" data-toc-modified-id=\"Data-Manipulation-Classes-1\"><span class=\"toc-item-num\">1&nbsp;&nbsp;</span>Data Manipulation Classes</a></span></li></ul></div>"
   ]
  },
  {
   "cell_type": "markdown",
   "metadata": {},
   "source": [
    "# Data Manipulation Classes\n",
    "\n",
    "This notebooks collects the helper methods to be used along the different lessons. The two important classes "
   ]
  },
  {
   "cell_type": "code",
   "execution_count": 14,
   "metadata": {
    "code_folding": [],
    "hide_input": false
   },
   "outputs": [],
   "source": [
    "# imports\n",
    "\n",
    "import numpy as np\n",
    "import pandas as pd\n",
    "import statsmodels.api as sm\n",
    "import warnings\n",
    "\n",
    "\n",
    "warnings.filterwarnings(action='once')"
   ]
  },
  {
   "cell_type": "code",
   "execution_count": 7,
   "metadata": {
    "code_folding": [
     0
    ]
   },
   "outputs": [],
   "source": [
    "class Dataset:\n",
    "    \"\"\"\n",
    "    This class allows a simpler representation of the dataset used\n",
    "    to build a model in class. It allows loading a remote CSV by\n",
    "    providing an URL to the initialization method of the object.\n",
    "\n",
    "        my_data = Dataset(URL)\n",
    "        \n",
    "    \"\"\"\n",
    "    \n",
    "    meta = None\n",
    "    target = None\n",
    "    features = None\n",
    "    \n",
    "    def __init__(self, data_location):\n",
    "        self.data = pd.read_csv(data_location)\n",
    "        self.features = list(self.data)\n",
    "        self.metainfo()\n",
    "        \n",
    "    def set_target(self, target):\n",
    "        self.features.remove(target)\n",
    "        self.target = target\n",
    "        \n",
    "    def metainfo(self):\n",
    "        \"\"\"\n",
    "        Builds metainfromation about the dataset, considering the \n",
    "        features that are categorical, numerical or does/doesn't contain NA's.\n",
    "        \"\"\"\n",
    "        meta = dict()\n",
    "        descr = pd.DataFrame({'dtype': self.data.dtypes, \n",
    "                              'NAs': self.data.isna().sum()})\n",
    "        categorical_features = descr.loc[descr['dtype'] == 'object'].\\\n",
    "            index.values.tolist()\n",
    "        numerical_features = descr.loc[descr['dtype'] != 'object'].\\\n",
    "            index.values.tolist()\n",
    "        numerical_features_na = descr.loc[(descr['dtype'] != 'object') & \n",
    "                                          (descr['NAs'] > 0)].\\\n",
    "            index.values.tolist()\n",
    "        categorical_features_na = descr.loc[(descr['dtype'] == 'object') & \n",
    "                                            (descr['NAs'] > 0)].\\\n",
    "            index.values.tolist()\n",
    "        complete_features = descr.loc[descr['NAs'] == 0].index.values.tolist()\n",
    "        meta['description'] = descr\n",
    "        meta['categorical'] = categorical_features\n",
    "        meta['categorical_na'] = categorical_features_na\n",
    "        meta['numerical'] = numerical_features\n",
    "        meta['numerical_na'] = numerical_features_na\n",
    "        meta['complete'] = complete_features\n",
    "        self.meta = meta\n",
    "        return self\n",
    "    \n",
    "    def describe(self):\n",
    "        \"\"\"\n",
    "        Printout the metadata information collected when calling the \n",
    "        metainfo() method.\n",
    "        \"\"\"\n",
    "        if not self.meta:\n",
    "            self.metainfo()\n",
    "        print('Available types:', self.meta['description']['dtype'].unique())\n",
    "        print('{} Features'.format(self.meta['description'].shape[0]))\n",
    "        print('{} categorical features'.format(\n",
    "            len(self.meta['categorical'])))\n",
    "        print('{} numerical features'.format(\n",
    "            len(self.meta['numerical'])))\n",
    "        print('{} categorical features with NAs'.format(\n",
    "            len(self.meta['categorical_na'])))\n",
    "        print('{} numerical features with NAs'.format(\n",
    "            len(self.meta['numerical_na'])))\n",
    "        print('{} Complete features'.format(\n",
    "            len(self.meta['complete'])))\n",
    "        print('--')\n",
    "        print('Target: {}'.format(\n",
    "            self.target if self.target is not None else 'Not set'))\n",
    "        \n",
    "    def select(self, which):\n",
    "        \"\"\"\n",
    "        Returns a subset of the columns of the dataset.\n",
    "        `which` specifies which subset of features to return\n",
    "        If it is a list, it returns those feature names in the list,\n",
    "        And if it is a keywork from: 'all', 'categorical', 'categorical_na',\n",
    "        'numerical', 'numerical_na', 'complete', then the list of \n",
    "        features is extracted from the metainformation of the dataset.\n",
    "        \"\"\"\n",
    "        assert which in ['all','numerical','categorical','complete',\n",
    "                         'numerical_na','categorical_na']\n",
    "\n",
    "        if isinstance(which, list):\n",
    "            return self.data.loc[:, which]\n",
    "        else:\n",
    "            return self.data.loc[:, self.meta[which]]\n",
    "    \n",
    "    def names(self, which):\n",
    "        \"\"\"\n",
    "        Returns a the names of the columns of the dataset for which the arg\n",
    "        `which` is specified.\n",
    "        If it is a list, it returns those feature names in the list,\n",
    "        And if it is a keywork from: 'all', 'categorical', 'categorical_na',\n",
    "        'numerical', 'numerical_na', 'complete', then the list of \n",
    "        features is extracted from the metainformation of the dataset.\n",
    "        \"\"\"\n",
    "        assert which in ['all','numerical','categorical','complete',\n",
    "                         'numerical_na','categorical_na']\n",
    "        return self.meta[which]\n",
    "\n",
    "    def table(self, which=all, max_width=80):\n",
    "        \"\"\"\n",
    "        Print a tabulated version of the list of elements in a list, using\n",
    "        a max_width display (default 80).\n",
    "        \"\"\"\n",
    "        assert which in ['all','numerical','categorical','complete',\n",
    "                         'numerical_na','categorical_na']\n",
    "        \n",
    "        f_list = self.names(which)\n",
    "        if len(f_list) == 0:\n",
    "            return\n",
    "\n",
    "        num_features = len(f_list)\n",
    "        max_length = max([len(feature) for feature in f_list])\n",
    "        max_fields = int(np.floor(max_width / (max_length+1)))\n",
    "        col_width = max_length + 1\n",
    "\n",
    "        print('-'*((max_fields*max_length)+(max_fields-1)))\n",
    "        for field_idx in range(int(np.ceil(num_features/max_fields))):\n",
    "            from_idx = field_idx*max_fields\n",
    "            to_idx = (field_idx*max_fields)+max_fields\n",
    "            if to_idx > num_features:\n",
    "                to_idx = num_features\n",
    "            format_str = ''\n",
    "            for i in range(to_idx-from_idx):\n",
    "                format_str += '{{:<{:d}}}'.format(col_width)\n",
    "            print (format_str.format(*f_list[from_idx:to_idx]))\n",
    "        print('-'*((max_fields*max_length)+(max_fields-1)))\n",
    "        \n",
    "    def outliers(self, which):\n",
    "        \"\"\"\n",
    "        Find outliers, using bonferroni criteria, from the numerical features.\n",
    "        Returns a list of indices where outliers are present\n",
    "        'which' can be:\n",
    "          - 'all': default value\n",
    "          - 'numerical': only numerical features\n",
    "          - 'categorical': only categorical features\n",
    "          - 'complete': only complete features (no NA)\n",
    "        \"\"\"\n",
    "        assert which in ['all','numerical','categorical','complete']\n",
    "        ols = sm.OLS(endog = self.target, exog = self.select('numerical'))\n",
    "        fit = ols.fit()\n",
    "        test = fit.outlier_test()['bonf(p)']\n",
    "        return list(test[test<1e-3].index) \n",
    "    \n",
    "    def drop_samples(self, index_list):\n",
    "        \"\"\"\n",
    "        Remove the list of samples from the dataset. \n",
    "        \"\"\"\n",
    "        self.data.drop(self.data.index[index_list])\n",
    "        \n",
    "    def replace_na(self, column, value):\n",
    "        \"\"\"\n",
    "        Replace any NA occurrence from the column or list of columns passed \n",
    "        by the value passed as second argument.\n",
    "        \"\"\"\n",
    "        if isinstance(column, list) is True:\n",
    "            for col in column:\n",
    "                self.data[col].fillna(value, inplace=True)\n",
    "        else:\n",
    "            self.data[column].fillna(value, inplace=True)\n",
    "        self.metainfo()"
   ]
  },
  {
   "cell_type": "code",
   "execution_count": 8,
   "metadata": {
    "code_folding": [
     0
    ]
   },
   "outputs": [],
   "source": [
    "class Split:\n",
    "    \"\"\"\n",
    "    This class represents a split from a dataset, it will assign\n",
    "    each dataframe partition passed as argument to a different \n",
    "    attribute of the class: 'train', 'test' (and 'validation').\n",
    "    The class method 'split' performs the splitting of the dataframe\n",
    "    passed, according to the parameters passed.\n",
    "    \n",
    "    Example:\n",
    "    \n",
    "        X, Y = Split.split(my_data, my_target)\n",
    "        \n",
    "    \"\"\"\n",
    "    split_name = ['train', 'test', 'validation']\n",
    "    \n",
    "    def __init__(self, splits):\n",
    "        for index, partition in enumerate(splits):\n",
    "            setattr(self, self.split_name[index], partition)\n",
    "\n",
    "    @classmethod\n",
    "    def split(cls,\n",
    "              data, \n",
    "              target, \n",
    "              seed=1024, \n",
    "              test_size=0.2, \n",
    "              validation_split=False):\n",
    "        \"\"\"\n",
    "        From an input dataframe, separate features from target, and \n",
    "        produce splits (with or without validation).\n",
    "        \"\"\"\n",
    "        features = list(data)\n",
    "        features.remove(target)\n",
    "        X = pd.DataFrame(data, columns=features)\n",
    "        Y = pd.DataFrame(data.loc[:, target])\n",
    "\n",
    "        X_train, X_test, Y_train, Y_test = train_test_split(\n",
    "            X, Y, \n",
    "            test_size=test_size, random_state=seed)\n",
    "\n",
    "        if validation_split is True:\n",
    "            X_train, X_val, Y_train, Y_val = train_test_split(\n",
    "                X_train, Y_train, \n",
    "                test_size=test_size, random_state=seed)\n",
    "            X_splits = [X_train, X_test, X_val]\n",
    "            Y_splits = [Y_train, Y_test, Y_val]\n",
    "        else:\n",
    "            X_splits = [X_train, X_test]\n",
    "            Y_splits = [Y_train, Y_test]\n",
    "\n",
    "        return Split(X_splits), Split(Y_splits)"
   ]
  },
  {
   "cell_type": "code",
   "execution_count": 9,
   "metadata": {
    "scrolled": true
   },
   "outputs": [
    {
     "name": "stdout",
     "output_type": "stream",
     "text": [
      "Available types: [dtype('int64') dtype('O') dtype('float64')]\n",
      "80 Features\n",
      "43 categorical features\n",
      "37 numerical features\n",
      "16 categorical features with NAs\n",
      "0 numerical features with NAs\n",
      "64 Complete features\n",
      "--\n",
      "Target: SalePrice\n"
     ]
    }
   ],
   "source": [
    "houses = Dataset('./data/houseprices_prepared.csv.gz')\n",
    "houses.set_target('SalePrice')\n",
    "houses.describe()"
   ]
  },
  {
   "cell_type": "code",
   "execution_count": 10,
   "metadata": {},
   "outputs": [
    {
     "name": "stdout",
     "output_type": "stream",
     "text": [
      "-----------------------------------------------------------------------------\n",
      "Alley        MasVnrType   BsmtQual     BsmtCond     BsmtExposure BsmtFinType1 \n",
      "BsmtFinType2 Electrical   FireplaceQu  GarageType   GarageFinish GarageQual   \n",
      "GarageCond   PoolQC       Fence        MiscFeature  \n",
      "-----------------------------------------------------------------------------\n"
     ]
    }
   ],
   "source": [
    "houses.table('categorical_na')"
   ]
  },
  {
   "cell_type": "code",
   "execution_count": 11,
   "metadata": {},
   "outputs": [],
   "source": [
    "houses.replace_na(column='Electrical', value='Unknown')\n",
    "houses.replace_na(column=houses.names('categorical_na'), value='None')\n",
    "houses.table('categorical_na')"
   ]
  },
  {
   "cell_type": "code",
   "execution_count": 12,
   "metadata": {
    "scrolled": true
   },
   "outputs": [
    {
     "name": "stdout",
     "output_type": "stream",
     "text": [
      "Available types: [dtype('int64') dtype('O') dtype('float64')]\n",
      "80 Features\n",
      "43 categorical features\n",
      "37 numerical features\n",
      "0 categorical features with NAs\n",
      "0 numerical features with NAs\n",
      "80 Complete features\n",
      "--\n",
      "Target: SalePrice\n"
     ]
    }
   ],
   "source": [
    "houses.describe()"
   ]
  },
  {
   "cell_type": "code",
   "execution_count": null,
   "metadata": {},
   "outputs": [],
   "source": []
  }
 ],
 "metadata": {
  "kernelspec": {
   "display_name": "Python 3",
   "language": "python",
   "name": "python3"
  },
  "language_info": {
   "codemirror_mode": {
    "name": "ipython",
    "version": 3
   },
   "file_extension": ".py",
   "mimetype": "text/x-python",
   "name": "python",
   "nbconvert_exporter": "python",
   "pygments_lexer": "ipython3",
   "version": "3.6.5"
  },
  "toc": {
   "base_numbering": 1,
   "nav_menu": {
    "height": "247px",
    "width": "230px"
   },
   "number_sections": true,
   "sideBar": true,
   "skip_h1_title": false,
   "title_cell": "Table of Contents",
   "title_sidebar": "Contents",
   "toc_cell": true,
   "toc_position": {},
   "toc_section_display": true,
   "toc_window_display": false
  }
 },
 "nbformat": 4,
 "nbformat_minor": 2
}
